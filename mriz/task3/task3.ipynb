{
 "cells": [
  {
   "cell_type": "markdown",
   "metadata": {},
   "source": [
    "# 1. Проблема\n",
    "\n",
    "![task3](task3.jpeg)"
   ]
  },
  {
   "cell_type": "markdown",
   "metadata": {},
   "source": [
    "# 2. Содержательная постановка\n",
    "\n",
    "Необходимо определить процентный состав шихты для выплавки стали, нормированной по ГОСТу и обладающей минимальной стоимостью материалов с учетом ограничений на количество материалов."
   ]
  },
  {
   "cell_type": "markdown",
   "metadata": {},
   "source": [
    "# 3. Формальная постановка\n",
    "\n",
    "Пусть $x_1,x_2,x_3$ - процентная доля компонентов шихты для выплавки стали.\n",
    "\n",
    "Задача:\n",
    "\n",
    "$$\n",
    "(C,x)\\rightarrow \\min_{x_1+x_2+x_3 = 200}\n",
    "$$\n",
    "\n",
    "Ограничения нормированности по ГОСТу (условия):\n",
    "\n",
    "$\n",
    "0.15x_1 + 0.15x_2 + 0.17x_3 \\geq 0.16 \\times 200\n",
    "$\n",
    "\n",
    "$\n",
    "0.15x_1 + 0.15x_2 + 0.17x_3 \\leq 0.18 \\times 200\n",
    "$\n",
    "\n",
    "$\n",
    "0.10x_1 + 0.08x_2 + 0.09x_3 \\leq 0.09 \\times 200\n",
    "$\n",
    "\n",
    "$\n",
    "0.7x_1 + 0.3x_2 + 0.5x_3 \\leq 0.5 \\times 200\n",
    "$\n",
    "\n",
    "$\n",
    "x \\geq 0\n",
    "$\n",
    "\n",
    "Ограничения на количество материалов:\n",
    "\n",
    "$\n",
    "x_1 \\leq 150\\\\\n",
    "x_2 \\leq 100\\\\\n",
    "x_3 \\leq 75\n",
    "$"
   ]
  },
  {
   "cell_type": "markdown",
   "metadata": {},
   "source": [
    "# 4. Алгоритм и ПО\n",
    "\n",
    "В качестве ПО будем использовать ЯП python, с подключенными модулями:\n",
    "\n",
    "- numpy - для работы с линейной алгеброй\n",
    "\n",
    "- cvxpy - для работы с целочисленным линейным программированием"
   ]
  },
  {
   "cell_type": "markdown",
   "metadata": {},
   "source": [
    "# 5. Решение задачи\n",
    "\n",
    "Приведем решение задачи с применением выбранного алгоритма."
   ]
  },
  {
   "cell_type": "markdown",
   "metadata": {},
   "source": [
    "Импортируем библиотеки"
   ]
  },
  {
   "cell_type": "code",
   "execution_count": 1,
   "metadata": {},
   "outputs": [],
   "source": [
    "import cvxpy\n",
    "import numpy as np"
   ]
  },
  {
   "cell_type": "markdown",
   "metadata": {},
   "source": [
    "Внесем данные задачи и объявим переменную $x$"
   ]
  },
  {
   "cell_type": "code",
   "execution_count": 105,
   "metadata": {},
   "outputs": [],
   "source": [
    "c = np.array([300,200,150])\n",
    "\n",
    "A = np.array([[0.15,0.1,0.7],\n",
    "              [0.15,0.08,0.3],\n",
    "              [0.17,0.09,0.5]]).T\n",
    "\n",
    "b = np.array([0.16, 0.18, 0.09, 0.5]) * 200\n",
    "\n",
    "x = cvxpy.Variable(shape=3, integer = False)"
   ]
  },
  {
   "cell_type": "markdown",
   "metadata": {},
   "source": [
    "Запишем условия задачи оптимизации и значение, которое будем минимизировать"
   ]
  },
  {
   "cell_type": "code",
   "execution_count": 123,
   "metadata": {},
   "outputs": [],
   "source": [
    "constraints = [(A[0,:] @ x >= b[0]),\n",
    "               (A[0,:] @ x <= b[1]),\n",
    "               (A[1,:] @ x <= b[2]),\n",
    "               (A[2,:] @ x <= b[3]),\n",
    "               (sum(x) == 200),\n",
    "               (x >= 0),\n",
    "               (x[0] <= 150),\n",
    "               (x[1] <= 100),\n",
    "               (x[2] <= 75)]\n",
    "               \n",
    "total_value = c.T @ x"
   ]
  },
  {
   "cell_type": "markdown",
   "metadata": {},
   "source": [
    "Решим задачу минимизации и получим ответ:"
   ]
  },
  {
   "cell_type": "code",
   "execution_count": 131,
   "metadata": {},
   "outputs": [
    {
     "name": "stdout",
     "output_type": "stream",
     "text": [
      "Стоимость: inf\n",
      "В рамках данных условий задача не решаема\n"
     ]
    }
   ],
   "source": [
    "problem = cvxpy.Problem(cvxpy.Minimize(total_value), constraints=constraints)\n",
    "print('Стоимость: %s' %problem.solve())\n",
    "try:\n",
    "    print('Доли материалов: {} : {} : {}'.format(x.value[0],x.value[1],x.value[2]))\n",
    "except TypeError:\n",
    "    print('В рамках данных условий задача не решаема')"
   ]
  },
  {
   "cell_type": "markdown",
   "metadata": {},
   "source": [
    "# 6. Анализ\n",
    "\n",
    "В ходе решения этой задачи был получен ожидаемый ответ: нет решения.\n",
    "\n",
    "Изначально было видно, что решения, подходящего нашим условиям нет, т.к. у нас никогда не выполнится условие по процентному содержанию хрома. Необходимо либо подкорректировать состав, либо найти дополнительных поставщиков."
   ]
  }
 ],
 "metadata": {
  "kernelspec": {
   "display_name": "Python 3",
   "language": "python",
   "name": "python3"
  },
  "language_info": {
   "codemirror_mode": {
    "name": "ipython",
    "version": 3
   },
   "file_extension": ".py",
   "mimetype": "text/x-python",
   "name": "python",
   "nbconvert_exporter": "python",
   "pygments_lexer": "ipython3",
   "version": "3.8.6"
  }
 },
 "nbformat": 4,
 "nbformat_minor": 4
}
