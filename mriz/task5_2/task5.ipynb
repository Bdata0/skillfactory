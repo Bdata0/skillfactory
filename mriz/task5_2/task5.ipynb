{
 "cells": [
  {
   "cell_type": "markdown",
   "metadata": {},
   "source": [
    "# 1. Проблема\n",
    "\n",
    "![task5](task5.jpg)"
   ]
  },
  {
   "cell_type": "markdown",
   "metadata": {},
   "source": [
    "# 2. Содержательная постановка\n",
    "\n",
    "1. Составить план работы агрегатов для получения максимальной прибыли, используя приведенную таблицу объема получаемой прибыли.\n",
    "\n",
    "2. Посчитать максимальную прибыль."
   ]
  },
  {
   "cell_type": "markdown",
   "metadata": {},
   "source": [
    "# 3. Формальная постановка\n",
    "\n",
    "Пусть \n",
    "\n",
    "- $X$ - двумерное пространство использования заданных объемов.\n",
    "\n",
    "- $C$ - двумерное пространство прибыли при заданном объеме ресурсов.\n",
    "\n",
    "Задача:\n",
    "\n",
    "$$\n",
    "\\sum\\limits_{i=1}^4\\sum\\limits_{j=1}^4c_{ij}x_{ij} \\rightarrow \\max\n",
    "$$\n",
    "\n",
    "Ограничения нормированности по ГОСТу (условия):\n",
    "\n",
    "\n",
    "$\n",
    "\\begin{cases}\n",
    "x \\geq 0\\\\\n",
    "x \\leq 1\\\\\n",
    "\\forall i: \\sum\\limits_{j=0}^4{x_{ij}} = 1\\\\\n",
    "\\forall j: \\sum\\limits_{i=0}^4{x_{ij}} = 1\\\\\n",
    "\\end{cases}\n",
    "$\n"
   ]
  },
  {
   "cell_type": "markdown",
   "metadata": {},
   "source": [
    "# 4. Алгоритм и ПО\n",
    "\n",
    "В качестве ПО будем использовать ЯП **Python** с подключенными модулями:\n",
    "\n",
    "- **numpy** - для работы с линейной алгеброй\n",
    "\n",
    "- **cvxpy** - для работы с линейным программированием\n",
    "\n",
    "В качестве среды разработки **Jupyter Lab**,"
   ]
  },
  {
   "cell_type": "markdown",
   "metadata": {},
   "source": [
    "# 5. Решение\n",
    "\n",
    "Приведем в качестве решения скрипт:"
   ]
  },
  {
   "cell_type": "code",
   "execution_count": 1,
   "metadata": {},
   "outputs": [],
   "source": [
    "def profit(c, accuracy=1):\n",
    "    '''\n",
    "    Функция, подсчитывающая объем получаемой прибыли\n",
    "    при использовании оптимального распределения\n",
    "    работы агрегатов, а также план их работы\n",
    "    \n",
    "    c - 2D-список\n",
    "    получаемой прибыли при\n",
    "    заданном объеме ресурсов\n",
    "    для агрегатов\n",
    "    \n",
    "    accuracy - число\n",
    "    запятых, которе оставляем после запятой\n",
    "    '''\n",
    "    \n",
    "    import cvxpy\n",
    "    import numpy as np\n",
    "    \n",
    "    c = np.array(c)\n",
    "\n",
    "    x = cvxpy.Variable(shape=np.shape(c), integer = True)\n",
    "\n",
    "    col_n_e = np.array([1]*np.shape(c)[0])\n",
    "    row_n_e = np.array([1]*np.shape(c)[1])\n",
    "\n",
    "    constraints = [(x >= 0), \n",
    "                  (x <= 1), \n",
    "                  (col_n_e @ x == row_n_e), \n",
    "                  (x @ row_n_e.T == col_n_e)]\n",
    "\n",
    "    total_value = -cvxpy.sum(cvxpy.multiply(c, x))\n",
    "    problem = cvxpy.Problem(cvxpy.Minimize(total_value), constraints=constraints)\n",
    "    \n",
    "    print('Макимальная прибыль: {}$'.format(abs(round(problem.solve(),accuracy))))\n",
    "    \n",
    "    print('\\nМатрица распределения работы агрегатов:\\n')\n",
    "    for i in range(len(x.value)):\n",
    "        print(' '.join([str(j) for j in x.value[i].astype(int)]))\n",
    "    \n",
    "    return (abs(problem.solve()))"
   ]
  },
  {
   "cell_type": "markdown",
   "metadata": {},
   "source": [
    "# 6. Анализ\n",
    "\n",
    "Запустим скрипт на наших данных:"
   ]
  },
  {
   "cell_type": "code",
   "execution_count": 2,
   "metadata": {},
   "outputs": [
    {
     "name": "stdout",
     "output_type": "stream",
     "text": [
      "Макимальная прибыль: 32.5$\n",
      "\n",
      "Матрица распределения работы агрегатов:\n",
      "\n",
      "0 1 0 0\n",
      "1 0 0 0\n",
      "0 0 0 1\n",
      "0 0 1 0\n"
     ]
    }
   ],
   "source": [
    "c = [[5,7.5,9,11],\n",
    "     [4,5.5,8,10],\n",
    "     [6,8,10,12],\n",
    "     [4.5,7,9,11]]\n",
    "\n",
    "profit(c);"
   ]
  },
  {
   "cell_type": "markdown",
   "metadata": {},
   "source": [
    "Получаем максимальную суммарную прибыль в \n",
    "\n",
    "$32.5\\$$\n",
    "\n",
    "Получаем распределение работы агрегатов по объему ресурсов:\n",
    "\n",
    "$\\begin{pmatrix}\n",
    "0 & 1 & 0 & 0 \\\\\n",
    "1 & 0 & 0 & 0 \\\\\n",
    "0 & 0 & 0 & 1 \\\\\n",
    "0 & 0 & 1 & 0\n",
    "\\end{pmatrix}$"
   ]
  }
 ],
 "metadata": {
  "kernelspec": {
   "display_name": "Python 3",
   "language": "python",
   "name": "python3"
  },
  "language_info": {
   "codemirror_mode": {
    "name": "ipython",
    "version": 3
   },
   "file_extension": ".py",
   "mimetype": "text/x-python",
   "name": "python",
   "nbconvert_exporter": "python",
   "pygments_lexer": "ipython3",
   "version": "3.8.6"
  }
 },
 "nbformat": 4,
 "nbformat_minor": 4
}
