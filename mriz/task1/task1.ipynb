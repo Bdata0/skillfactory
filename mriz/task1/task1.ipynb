{
 "cells": [
  {
   "cell_type": "markdown",
   "metadata": {},
   "source": [
    "# 1. Проблема\n",
    "\n",
    "![task1](task1.png)"
   ]
  },
  {
   "cell_type": "markdown",
   "metadata": {},
   "source": [
    "# 2. Содержательная постановка\n",
    "\n",
    "Необходимо провести проверку соблюдения закона Ома для участка цепи, состоящего из элемента питания, резистора и амперметра, подключенных последовательно. Известны значения напряжения, а также значения силы тока на участке цепи."
   ]
  },
  {
   "cell_type": "markdown",
   "metadata": {},
   "source": [
    "# 3. Формальная постановка\n",
    "\n",
    "Пусть \n",
    "\n",
    "- $U = {U_1,U_2,\\dots,U_n}$ - пространство зафиксированных (подаваемых) значений напряжения на участок цепи.\n",
    "\n",
    "- $I = {I_1,I_2,\\dots,I_n}$ - простраство случайных (измеренных) значений силы тока в участке цепи.\n",
    "\n",
    "Задача:\n",
    "\n",
    "$$\n",
    "\\textrm{MSE} \\rightarrow \\min\n",
    "$$\n",
    "\n",
    "Условия\n",
    "\n",
    "$$\n",
    "U_n > 0\\\\\n",
    "I_n > 0\\\\\n",
    "w > 0\n",
    "$$\n"
   ]
  },
  {
   "cell_type": "markdown",
   "metadata": {},
   "source": [
    "# 4. Алгоритм и ПО\n",
    "\n",
    "Мы предполагаем, что согласно закону Ома для участка цепи ($I = \\frac{U}{R}$) истинная связь между $U$ и $I$ является линейной, плюс некоторая случайная ошибка:\n",
    "\n",
    "$$\n",
    "I_i = f(w,U_i)+\\varepsilon_i\n",
    "$$\n",
    "\n",
    "В данном случае в качестве веса будет выступать проводимость $\\frac{1}{R}$.\n",
    "\n",
    "Проверку состоятельности модели закона Ома будем проводить рассчитывая коэффициент детерминации $\\mathbf{R}^2$. \n",
    "\n",
    "Если $\\mathbf{R}^2$ выше $50$%, то модель будем считать приемлемой.\n",
    "\n",
    "Если $\\mathbf{R}^2$ выше $80$%, то модель будем считать хорошей.\n",
    "\n",
    "В качестве алгоритма будем использовать МНК\n",
    "\n",
    "В качестве ПО будем использовать ЯП python, с подключенными модулями:\n",
    "\n",
    "- numpy - для работы с линейной алгеброй\n",
    "\n",
    "- sklearn - для линейной регрессии\n",
    "\n",
    "- seaborn - для построения графиков"
   ]
  },
  {
   "cell_type": "markdown",
   "metadata": {},
   "source": [
    "# 5. Решение задачи\n",
    "\n",
    "Приведем решение задачи с применением выбранного алгоритма."
   ]
  },
  {
   "cell_type": "markdown",
   "metadata": {},
   "source": [
    "Подключим необходимые модули"
   ]
  },
  {
   "cell_type": "code",
   "execution_count": 1,
   "metadata": {},
   "outputs": [],
   "source": [
    "import numpy as np\n",
    "from sklearn.linear_model import LinearRegression\n",
    "import seaborn as sns"
   ]
  },
  {
   "cell_type": "markdown",
   "metadata": {},
   "source": [
    "Предоставим данные"
   ]
  },
  {
   "cell_type": "code",
   "execution_count": 2,
   "metadata": {},
   "outputs": [],
   "source": [
    "U = np.array([0, 5, 15, 25, 35, 45, 55]).reshape((-1, 1))\n",
    "I = np.array([0, 5, 20, 19, 32, 38, 48])"
   ]
  },
  {
   "cell_type": "markdown",
   "metadata": {},
   "source": [
    "Создадим экземпляр класса модели линейной регрессии и посчитаем $\\mathbf{R}^2$"
   ]
  },
  {
   "cell_type": "code",
   "execution_count": 3,
   "metadata": {},
   "outputs": [
    {
     "name": "stdout",
     "output_type": "stream",
     "text": [
      "Коэффициент детерминации: 0.9669999878497746\n",
      "Проводимость: 0.8769230769230768\n"
     ]
    }
   ],
   "source": [
    "model = LinearRegression(fit_intercept = False).fit(U, I)\n",
    "\n",
    "r_sq = model.score(U, I)\n",
    "w = model.coef_\n",
    "\n",
    "print('Коэффициент детерминации:', r_sq)\n",
    "print('Проводимость:', w[0])"
   ]
  },
  {
   "cell_type": "markdown",
   "metadata": {},
   "source": [
    "# 6. Анализ\n",
    "\n",
    "Проведем анализ результатов:"
   ]
  },
  {
   "cell_type": "markdown",
   "metadata": {},
   "source": [
    "Исходя из вычисленного коэффициента детерминации - доли объясненной моделью дисперсии, получаем:"
   ]
  },
  {
   "cell_type": "code",
   "execution_count": 4,
   "metadata": {},
   "outputs": [
    {
     "name": "stdout",
     "output_type": "stream",
     "text": [
      "Модель хорошая. Закон Ома выполняется\n"
     ]
    }
   ],
   "source": [
    "if r_sq >= 0.8:\n",
    "    print('Модель хорошая. Закон Ома выполняется')\n",
    "elif r_sq >= 0.5:\n",
    "    print('Модель приемлемая. Закон Ома выполняется')\n",
    "else:\n",
    "    print('Модель непримемлемая. Закон Ома не выполняется')"
   ]
  },
  {
   "cell_type": "markdown",
   "metadata": {},
   "source": [
    "Построим график"
   ]
  },
  {
   "cell_type": "code",
   "execution_count": 5,
   "metadata": {},
   "outputs": [
    {
     "data": {
      "text/plain": [
       "<AxesSubplot:>"
      ]
     },
     "execution_count": 5,
     "metadata": {},
     "output_type": "execute_result"
    },
    {
     "data": {
      "image/png": "[encoded data removed]",
      "text/plain": [
       "<Figure size 432x288 with 1 Axes>"
      ]
     },
     "metadata": {
      "needs_background": "light"
     },
     "output_type": "display_data"
    }
   ],
   "source": [
    "sns.regplot(x=U, y=I);"
   ]
  },
  {
   "cell_type": "markdown",
   "metadata": {},
   "source": [
    "Из него видно, что зависимость линейная. Соответственно закон Ома выполняется."
   ]
  }
 ],
 "metadata": {
  "kernelspec": {
   "display_name": "Python 3",
   "language": "python",
   "name": "python3"
  },
  "language_info": {
   "codemirror_mode": {
    "name": "ipython",
    "version": 3
   },
   "file_extension": ".py",
   "mimetype": "text/x-python",
   "name": "python",
   "nbconvert_exporter": "python",
   "pygments_lexer": "ipython3",
   "version": "3.8.6"
  }
 },
 "nbformat": 4,
 "nbformat_minor": 4
}
