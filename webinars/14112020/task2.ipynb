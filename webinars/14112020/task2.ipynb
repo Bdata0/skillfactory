{
 "cells": [
  {
   "cell_type": "markdown",
   "metadata": {},
   "source": [
    "# Task 2 function"
   ]
  },
  {
   "cell_type": "code",
   "execution_count": 1,
   "metadata": {},
   "outputs": [],
   "source": [
    "def floyd(graph, no_path=-1):\n",
    "    '''\n",
    "    Floyd–Warshall algorithm.\n",
    "    \n",
    "    The graph defines by a matrix with \n",
    "    dimensions NxN. Element graph[i][j] \n",
    "    is equal to the length of the road \n",
    "    between city i and city j, \n",
    "    if it exists, and -1 otherwise (by default).\n",
    "    \n",
    "    Parameters\n",
    "    ----------\n",
    "    %(input)s\n",
    "    graph : array-like\n",
    "        The graph matrix NxN.\n",
    "    no_path : int, optional\n",
    "        The no path value between cities.\n",
    "    \n",
    "    Returns\n",
    "    -------\n",
    "    graph : ndarray\n",
    "        The shortest path matrix.\n",
    "    '''\n",
    "    \n",
    "    from numpy import array\n",
    "    from math import inf\n",
    "    \n",
    "    graph = array(graph).astype(float)\n",
    "    graph[graph == no_path] = inf\n",
    "    \n",
    "    n = len(graph)\n",
    "    for k in range(0,n):\n",
    "        for i in range(0,n):\n",
    "            for j in range(0,n):\n",
    "                if graph[i,k] < inf and graph[k,j] < inf and graph[i,j] > graph[i,k] + graph[k,j]:\n",
    "                    graph[i,j] = graph[i,k] + graph[k,j]\n",
    "                    \n",
    "    return graph"
   ]
  },
  {
   "cell_type": "markdown",
   "metadata": {},
   "source": [
    "# Task 2 examples\n",
    "\n",
    "As an example we consider the path matrix\n",
    "$\n",
    "A = \\begin{pmatrix}\n",
    "0 & 100 & -1 & 1\\\\\n",
    "100 & 0 & 50 & 3\\\\\n",
    "-1 & 50 & 0 & 20\\\\\n",
    "1 & 3 & 20 & 0\n",
    "\\end{pmatrix}\n",
    "$."
   ]
  },
  {
   "cell_type": "code",
   "execution_count": 2,
   "metadata": {},
   "outputs": [
    {
     "data": {
      "text/plain": [
       "[[0, 100, -1, 1], [100, 0, 50, 3], [-1, 50, 0, 20], [1, 3, 20, 0]]"
      ]
     },
     "execution_count": 2,
     "metadata": {},
     "output_type": "execute_result"
    }
   ],
   "source": [
    "A = [[0, 100, -1, 1],[100, 0, 50, 3],[-1, 50, 0, 20],[1, 3, 20, 0]]\n",
    "A"
   ]
  },
  {
   "cell_type": "markdown",
   "metadata": {},
   "source": [
    "Apply Floyd's algorithm to the $A$:"
   ]
  },
  {
   "cell_type": "code",
   "execution_count": 3,
   "metadata": {},
   "outputs": [
    {
     "data": {
      "text/plain": [
       "array([[ 0.,  4., 21.,  1.],\n",
       "       [ 4.,  0., 23.,  3.],\n",
       "       [21., 23.,  0., 20.],\n",
       "       [ 1.,  3., 20.,  0.]])"
      ]
     },
     "execution_count": 3,
     "metadata": {},
     "output_type": "execute_result"
    }
   ],
   "source": [
    "floyd(A)"
   ]
  },
  {
   "cell_type": "markdown",
   "metadata": {},
   "source": [
    "And we get the result:\n",
    "$$\n",
    "A_{min} = \\begin{pmatrix}\n",
    "0 & 4 & 21 & 1\\\\\n",
    "4 & 0 & 23 & 3\\\\\n",
    "21 & 23 & 0 & 20\\\\\n",
    "1 & 3 & 20 & 0\n",
    "\\end{pmatrix}\n",
    "$$"
   ]
  }
 ],
 "metadata": {
  "kernelspec": {
   "display_name": "Python 3",
   "language": "python",
   "name": "python3"
  },
  "language_info": {
   "codemirror_mode": {
    "name": "ipython",
    "version": 3
   },
   "file_extension": ".py",
   "mimetype": "text/x-python",
   "name": "python",
   "nbconvert_exporter": "python",
   "pygments_lexer": "ipython3",
   "version": "3.8.6"
  }
 },
 "nbformat": 4,
 "nbformat_minor": 4
}
