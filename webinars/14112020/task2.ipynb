{
 "cells": [
  {
   "cell_type": "markdown",
   "metadata": {},
   "source": [
    "# Task 2. I go right through\n",
    "Imagine a situation: given cities, between some of which roads are laid, and the lengths of these roads are known. It is necessary to find the optimal distances between all pairs of cities - because sometimes it is more profitable to get from one city to another not directly, but through other cities.\n",
    "\n",
    "The initial data are specified in the form of a matrix A with dimensions $ N \\times N $. The $ A_ {ij} $ element is equal to the length of the road between the city $ i $ and the city $ j $, if it exists, and $ -1 $ otherwise.\n",
    "\n",
    "As a result, the program should return a matrix of the same form, in which the $ A_ {ij} $ element will contain the length of the optimal path between $ i $ and $ j $.\n",
    "\n",
    "This is a classic graph theory problem solved by Floyd's algorithm. You need to consistently “allow” to pass through the next city, first through the first, then through the second, and so on. Note the similarities between matrix multiplication and this algorithm: you should get pretty much the same code! The difference is that in matrix multiplication you add the products $ A_ {ik} B_ {kj} $, and in Floyd's algorithm you choose the minimum of $ A_ {ij} $ and $ A_ {ik} + A_ {kj} $.\n",
    "\n",
    "**Result**: In this problem you need to write a program that accepts a two-dimensional matrix $ A $, in which the element $ A_ {ij} $ contains the distance between the cities $ i $ and $ j $ or $ -1 $, if the direct path from $ i $ does not exist in $ j $. The program should output the matrix by the shortest paths between all vertices in the same form."
   ]
  },
  {
   "cell_type": "markdown",
   "metadata": {},
   "source": [
    "# Solution\n",
    "\n",
    "Let the value of $ a_ {ij} ^ k $ be equal to the length of the shortest path from vertex $ i $ to vertex $ j $, and the path can enter intermediate vertices only with numbers less than $ k $ (not counting the beginning and end of the path). That is, $ a_ {ij} ^ 0 $ is the length of the shortest path from $ i $ to $ j $, which does not contain intermediate vertices at all, that is, it consists of only one edge $ ij $, therefore $ a_ {ij} ^ 0 = \\omega_ {ij} $. The value $ a_ {ij} ^ 1 = \\omega_ {ij} $ is equal to the length of the shortest path that can pass through the intermediate vertex with the number $ 0 $, the path with the weight $ a_ {ij} ^ 2 $ can pass through the intermediate vertices with the numbers $ 0 $ and $ 1 $ and so on. A path with weight $ a_ {ij} ^ N $ can pass through any intermediate vertices, so the value of $ a_ {ij} ^ N $ is equal to the length of the shortest path from $ i $ to $ j $.\n",
    "\n",
    "Floyd's algorithm sequentially calculates $ a_ {ij} ^ 0 $, $ a_ {ij} ^ 1 $, $ a_ {ij} ^ 2 $, $ \\dots $, $ a_ {ij} ^ N $, increasing the value of the parameter $ k $. The initial value is $ a_ {ij} ^ 0 = \\omega_ {ij} $.\n",
    "\n",
    "Now, assuming that the values of $ a_ {ij} ^ {k-1} $ are known, we calculate $ a_ {ij} ^ k $. The shortest path from vertex $ i $ to vertex $ j $ passing through vertices numbered less than $ k $ can either contain or not contain vertex numbered $ k-1 $. \n",
    "\n",
    "<img src=\"Pic.png\" width=\"40%\">\n",
    "\n",
    "If it does not contain the vertex numbered $ k-1 $, then the weight of this path coincides with $ a_ {ij} ^ {k-1} $. If it contains the vertex $ k-1 $, then this path is divided into two parts: $ i - (k-1) $ and $ (k-1) - j $. Each of these parts contains intermediate vertices only with numbers less than $ k-1 $, so the weight of such a path is $ a_ {i (k-1)} ^ {k-1} + a _ {(k-1) j} ^ {k-1} $. Of the two options considered, you must choose the option of the lowest cost, therefore:\n",
    "\n",
    "$$\n",
    "a_ {ij} ^ 0 = \\min (a_ {ij} ^ {k-1}, a_ {i (k-1)} ^ {k-1} + a _ {(k-1) j} ^ {k- 1})\n",
    "$$\n",
    "\n",
    "In this case, the code would look like this:\n"
   ]
  },
  {
   "cell_type": "code",
   "execution_count": 1,
   "metadata": {},
   "outputs": [],
   "source": [
    "def floyd(adjacency_matrix, no_path=-1):\n",
    "\n",
    "    from numpy import array\n",
    "    from math import inf\n",
    "  \n",
    "    adjacency_matrix = array(adjacency_matrix).astype(float)\n",
    "    adjacency_matrix[adjacency_matrix == no_path] = inf\n",
    "\n",
    "    N = len(adjacency_matrix)\n",
    "    A = [[[inf for j in range(N)] for i in range(N)] for k in range(N + 1)]\n",
    "    for i in range(N):\n",
    "        for j in range(N):\n",
    "            A[0][i][j] = adjacency_matrix[i][j]\n",
    "\n",
    "    for k in range(1, N + 1):\n",
    "        for i in range(N):\n",
    "            for j in range(N):\n",
    "                A[k][i][j] = min(A[k-1][i][j], \n",
    "                                A[k-1][i][k-1] + A[k-1][k-1][j])\n",
    "    return A[-1]"
   ]
  },
  {
   "cell_type": "markdown",
   "metadata": {},
   "source": [
    "The outer loop in this algorithm sequentially iterates over all vertices, then tries to improve the paths from $ i $ to $ j $, allowing them to pass through the selected vertex. Let's simplify this algorithm, getting rid of the \"three-dimensionality\" of the array $ A $: we will only store the value of the shortest path from $ i $ to $ j $ in $ A [i] [j] $, and when improving the path, we will write the new length of the path also in $ A [i] [j] $. We will also change the definition of the loop on the variable $ k $, replacing the value of $ k-1 $ with $ k $.\n",
    "\n",
    "Then the code would look like this:"
   ]
  },
  {
   "cell_type": "code",
   "execution_count": 2,
   "metadata": {},
   "outputs": [],
   "source": [
    "def floyd(adjacency_matrix, no_path=-1):\n",
    "\n",
    "    from numpy import array\n",
    "    from math import inf\n",
    "\n",
    "    adjacency_matrix = array(adjacency_matrix).astype(float)\n",
    "    adjacency_matrix[adjacency_matrix == no_path] = inf\n",
    "  \n",
    "    N = len(adjacency_matrix)\n",
    "    for k in range(N):\n",
    "        for i in range(N):\n",
    "            for j in range(N):\n",
    "                adjacency_matrix[i][j] = min(adjacency_matrix[i][j], \n",
    "                                            adjacency_matrix[i][k] + adjacency_matrix[k][j])\n",
    "    return adjacency_matrix"
   ]
  },
  {
   "cell_type": "markdown",
   "metadata": {},
   "source": [
    "However, if there are edges of negative weight, the values of $ A [i] [j] $ may decrease. Therefore, it may turn out that the value of $ A [i] [j] $ was equal to $ \\infty $, and then it decreased due to the presence of edges of negative weight. As a result, the value of $ A [i] [j] $ turned out to be less than $ \\infty $ (for example, due to the union of a path of length $ \\infty $ and a path of negative weight), but at the same time, the path between the vertices $ i $ and $ j $ no. Therefore, it is necessary either to put additional checks on the fact that $ A [i] [k] $ and $ A [k] [j] $ are not equal to $ \\infty $, or values that are slightly less than $ \\infty $ are also considered as absence paths.\n",
    "\n",
    "<img src=\"Pic2.png\" width=\"30%\">\n",
    "\n",
    "Floyd's algorithm does not work correctly in the presence of a negative weight cycle, but if the path from $ i $ to $ j $ does not contain a negative weight cycle, then the algorithm will find the weight of this path correctly. Also, using this algorithm, you can determine the presence of a cycle of negative weight: if the vertex $ i $ lies on a cycle of negative weight, then the value of $ A [i] [i] $ will be negative after the end of the algorithm.\n",
    "\n",
    "Thus, we get the final result:"
   ]
  },
  {
   "cell_type": "code",
   "execution_count": 3,
   "metadata": {},
   "outputs": [],
   "source": [
    "def floyd(adjacency_matrix, no_path=-1, big_num=True):\n",
    "    '''\n",
    "    Floyd–Warshall algorithm.\n",
    "    \n",
    "    The adjacency matrix is a matrix with \n",
    "    dimensions NxN. Element [i,j]\n",
    "    is equal to the length of the road \n",
    "    between city i and city j, \n",
    "    if it exists, and -1 otherwise (by default).\n",
    "    \n",
    "    Parameters\n",
    "    ----------\n",
    "    %(input)s\n",
    "    adjacency_matrix : array-like\n",
    "        The adjacency matrix NxN.\n",
    "    no_path : int, optional\n",
    "        The no path value between cities.\n",
    "    big_num : numeric, True (default)\n",
    "        The number we suppose to be close to inf.\n",
    "    True means math.inf\n",
    "\n",
    "    Returns\n",
    "    -------\n",
    "    graph : ndarray\n",
    "        The shortest path matrix.\n",
    "    '''\n",
    "    \n",
    "    from numpy import array\n",
    "    from math import inf\n",
    "\n",
    "    if big_num:\n",
    "        big_num = inf\n",
    "    \n",
    "    adjacency_matrix = array(adjacency_matrix).astype(float)\n",
    "    adjacency_matrix[adjacency_matrix == no_path] = inf\n",
    "    \n",
    "    N = len(adjacency_matrix)\n",
    "    for k in range(N):\n",
    "        for i in range(N):\n",
    "            for j in range(N):\n",
    "                if adjacency_matrix[i][k] < big_num and adjacency_matrix[k][j] < big_num and adjacency_matrix[i,j] > adjacency_matrix[i,k] + adjacency_matrix[k,j]:\n",
    "                    adjacency_matrix[i,j] = adjacency_matrix[i,k] + adjacency_matrix[k,j]\n",
    "                    \n",
    "    return adjacency_matrix"
   ]
  },
  {
   "cell_type": "markdown",
   "metadata": {},
   "source": [
    "# Examples\n",
    "\n",
    "As an example we consider the graph\n",
    "\n",
    "<img src=\"Graph.png\" width=\"20%\">\n",
    "\n",
    "with adjacency matrix\n",
    "\n",
    "$\n",
    "A = \\begin{pmatrix}\n",
    "0 & 100 & -1 & 1\\\\\n",
    "100 & 0 & 50 & 3\\\\\n",
    "-1 & 50 & 0 & 20\\\\\n",
    "1 & 3 & 20 & 0\n",
    "\\end{pmatrix}\n",
    "$."
   ]
  },
  {
   "cell_type": "code",
   "execution_count": 4,
   "metadata": {},
   "outputs": [
    {
     "data": {
      "text/plain": [
       "[[0, 100, -1, 1], [100, 0, 50, 3], [-1, 50, 0, 20], [1, 3, 20, 0]]"
      ]
     },
     "execution_count": 4,
     "metadata": {},
     "output_type": "execute_result"
    }
   ],
   "source": [
    "A = [[0, 100, -1, 1],[100, 0, 50, 3],[-1, 50, 0, 20],[1, 3, 20, 0]]\n",
    "A"
   ]
  },
  {
   "cell_type": "markdown",
   "metadata": {},
   "source": [
    "Apply Floyd's algorithm to the $A$:"
   ]
  },
  {
   "cell_type": "code",
   "execution_count": 5,
   "metadata": {},
   "outputs": [
    {
     "name": "stdout",
     "output_type": "stream",
     "text": [
      "CPU times: user 2 µs, sys: 1 µs, total: 3 µs\n",
      "Wall time: 4.77 µs\n"
     ]
    },
    {
     "data": {
      "text/plain": [
       "array([[ 0.,  4., 21.,  1.],\n",
       "       [ 4.,  0., 23.,  3.],\n",
       "       [21., 23.,  0., 20.],\n",
       "       [ 1.,  3., 20.,  0.]])"
      ]
     },
     "execution_count": 5,
     "metadata": {},
     "output_type": "execute_result"
    }
   ],
   "source": [
    "%time\n",
    "floyd(A)"
   ]
  },
  {
   "cell_type": "markdown",
   "metadata": {},
   "source": [
    "And we get the distance matrix:\n",
    "\n",
    "$\n",
    "A_{min} = \\begin{pmatrix}\n",
    "0 & 4 & 21 & 1\\\\\n",
    "4 & 0 & 23 & 3\\\\\n",
    "21 & 23 & 0 & 20\\\\\n",
    "1 & 3 & 20 & 0\n",
    "\\end{pmatrix}\n",
    "$"
   ]
  }
 ],
 "metadata": {
  "kernelspec": {
   "display_name": "Python 3",
   "language": "python",
   "name": "python3"
  },
  "language_info": {
   "codemirror_mode": {
    "name": "ipython",
    "version": 3
   },
   "file_extension": ".py",
   "mimetype": "text/x-python",
   "name": "python",
   "nbconvert_exporter": "python",
   "pygments_lexer": "ipython3",
   "version": "3.8.6"
  }
 },
 "nbformat": 4,
 "nbformat_minor": 4
}
