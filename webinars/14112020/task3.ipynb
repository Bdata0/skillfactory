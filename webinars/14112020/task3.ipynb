{
 "cells": [
  {
   "cell_type": "markdown",
   "metadata": {},
   "source": [
    "# Problem 3. Fibonacci-2. Comeback\n",
    "\n",
    "In the Python Programming course, we had several problems with Fibonacci numbers. Let us recall how they are arranged.\n",
    "\n",
    "The first two numbers in the Fibonacci sequence are $ 1 $. Each next, starting with the second, is equal to the sum of the previous two numbers:\n",
    "\n",
    "$ 1, 1, 2, 3, 5, 8, 13, 21, \\ dots $\n",
    "\n",
    "Calculating the $ n $ th member of the sequence in this way requires n operations. In this task, we will learn how to do it in $ \\ log (n) $ operations, that is, faster.\n",
    "\n",
    "Let $ a $, $ b $, $ c $ be the next and two previous members of the sequence, respectively. That is, $ a = b + c $. Let's write this in matrix form:\n",
    "\n",
    "$\n",
    "\\begin {pmatrix}\n",
    "a\\\\\n",
    "b\n",
    "\\end {pmatrix}\n",
    "\\begin {pmatrix}\n",
    "1 & 1\\\\\n",
    "1 & 0\n",
    "\\end {pmatrix}\n",
    "\\begin {pmatrix}\n",
    "b\\\\\n",
    "c\n",
    "\\end {pmatrix}\n",
    "$\n",
    "\n",
    "This operation transforms the pair $ (b, c) $ into the pair $ (b + c, b) $, that is, we sort of “shift” to the next pair in the sequence.\n",
    "\n",
    "We denote the matrix from this equality by $ F = \\begin {pmatrix}\n",
    "1 & 1\\\\\n",
    "1 & 0\n",
    "\\end {pmatrix} $. It turns out that each multiplication by $ F $ on the left shifts us in the Fibonacci sequence one step. That is, to move $ n $ steps, we need to do this multiplication $ n $ times.\n",
    "\n",
    "So far, the complexity of such calculations is still linear - we need to perform the same $ O (n) $ operations. However, we can use the fast exponentiation algorithm (I also recommend reading an alternative description here). This algorithm allows you to raise a number or a matrix to an integer power in $ \\ log (n) $ operations. The main idea of ​​the algorithm is repeated squaring.\n",
    "\n",
    "Since the values ​​of the Fibonacci numbers grow very quickly (exponentially), we will not consider the values ​​themselves, but their remainders after division by a given number $ m $.\n",
    "\n",
    "**Result**: To solve this problem, write a program that takes as input two numbers $ n $ and $ m $ and outputs the remainder of the division of the $ n $ th (numbering of numbers in the sequence starts with $ 1 $) of the Fibonacci number by the number $ m $."
   ]
  },
  {
   "cell_type": "markdown",
   "metadata": {},
   "source": [
    "# Solution"
   ]
  },
  {
   "cell_type": "code",
   "execution_count": 1,
   "metadata": {},
   "outputs": [],
   "source": [
    "def n_fib_mod(pos, divisor):\n",
    "    '''\n",
    "    Fibonacci modulo\n",
    "    \n",
    "    Finds the remainder of the\n",
    "    n'th Fibonacci number that's\n",
    "    left after a number is divided\n",
    "    by value.\n",
    "    Function uses Pisano period.\n",
    "    \n",
    "    Parameters\n",
    "    ----------\n",
    "    %(input)s\n",
    "    pos : int\n",
    "        The position number of\n",
    "    the Fibonacci number.\n",
    "    divisor : int\n",
    "        The divisor value.\n",
    "    \n",
    "    Returns\n",
    "    -------\n",
    "    modulo : int\n",
    "        The modulo\n",
    "    '''\n",
    "    \n",
    "    fib_prev = 0\n",
    "    fib = 1\n",
    "    cache = [fib_prev, fib]\n",
    "\n",
    "    for curr in range(1, pos):\n",
    "        fib_old = fib\n",
    "        fib = (fib + fib_prev) % divisor\n",
    "        fib_prev = fib_old\n",
    "\n",
    "        if fib_prev == 0 and fib == 1:\n",
    "            cache.pop()\n",
    "            break\n",
    "        else:\n",
    "            cache.append(fib)\n",
    "\n",
    "    offset = pos % len(cache)\n",
    "    modulo = cache[offset]\n",
    "    \n",
    "    return(modulo)"
   ]
  },
  {
   "cell_type": "markdown",
   "metadata": {},
   "source": [
    "# Examples\n",
    "As an example we consider the $1000000000001\\text{'th}$ Fibonacci number and the divisor equals $99999$."
   ]
  },
  {
   "cell_type": "code",
   "execution_count": 8,
   "metadata": {},
   "outputs": [
    {
     "name": "stdout",
     "output_type": "stream",
     "text": [
      "CPU times: user 106 µs, sys: 13 µs, total: 119 µs\n",
      "Wall time: 121 µs\n"
     ]
    },
    {
     "data": {
      "text/plain": [
       "63715"
      ]
     },
     "execution_count": 8,
     "metadata": {},
     "output_type": "execute_result"
    }
   ],
   "source": [
    "%%time\n",
    "n_fib_mod(1000000000001, 99999)"
   ]
  },
  {
   "cell_type": "markdown",
   "metadata": {},
   "source": [
    "Thus, we get the result: $63715$"
   ]
  },
  {
   "cell_type": "code",
   "execution_count": null,
   "metadata": {},
   "outputs": [],
   "source": []
  }
 ],
 "metadata": {
  "kernelspec": {
   "display_name": "Python 3",
   "language": "python",
   "name": "python3"
  },
  "language_info": {
   "codemirror_mode": {
    "name": "ipython",
    "version": 3
   },
   "file_extension": ".py",
   "mimetype": "text/x-python",
   "name": "python",
   "nbconvert_exporter": "python",
   "pygments_lexer": "ipython3",
   "version": "3.8.6"
  }
 },
 "nbformat": 4,
 "nbformat_minor": 4
}
