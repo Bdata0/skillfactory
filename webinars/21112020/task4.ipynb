{
 "cells": [
  {
   "cell_type": "markdown",
   "metadata": {},
   "source": [
    "# Задача 4\n",
    "\n",
    "Пятачок делает $7$ попыток поймать рыбу. В каждой из попыток вероятность\n",
    "успеха равна $30%$. Какова вероятность того, что произойдёт ровно $5$\n",
    "успешных попыток?\n",
    "\n",
    "По [**формуле Бернулли**](https://ru.wikipedia.org/wiki/%D0%A4%D0%BE%D1%80%D0%BC%D1%83%D0%BB%D0%B0_%D0%91%D0%B5%D1%80%D0%BD%D1%83%D0%BB%D0%BB%D0%B8) выходит ответ:\n",
    "\n",
    "$P = C_n^k\\times p^k\\times(1-p)^{n-k} = C_5^{7}\\times0.3^5\\times0.7^2 = \\dfrac{7!}{5!\\times(7-5)!} \\times0.3^5 \\times 0.7^2 = 0,0250047$\n",
    "\n",
    "Реализуем решение на **Python**'e:"
   ]
  },
  {
   "cell_type": "code",
   "execution_count": 1,
   "metadata": {},
   "outputs": [],
   "source": [
    "def Bernoulli(n,k,p):\n",
    "    from math import factorial as fac\n",
    "    \n",
    "    C = fac(n) / fac(k) / fac(n - k)\n",
    "    P = C * p ** k * (1 - p) ** (n - k)\n",
    "    \n",
    "    return P"
   ]
  },
  {
   "cell_type": "code",
   "execution_count": 2,
   "metadata": {},
   "outputs": [
    {
     "name": "stdout",
     "output_type": "stream",
     "text": [
      "Ответ: 0.0250047\n"
     ]
    }
   ],
   "source": [
    "print('Ответ: %s' %round(Bernoulli(7,5,0.3),7))"
   ]
  }
 ],
 "metadata": {
  "kernelspec": {
   "display_name": "Python 3",
   "language": "python",
   "name": "python3"
  },
  "language_info": {
   "codemirror_mode": {
    "name": "ipython",
    "version": 3
   },
   "file_extension": ".py",
   "mimetype": "text/x-python",
   "name": "python",
   "nbconvert_exporter": "python",
   "pygments_lexer": "ipython3",
   "version": "3.8.6"
  }
 },
 "nbformat": 4,
 "nbformat_minor": 4
}
